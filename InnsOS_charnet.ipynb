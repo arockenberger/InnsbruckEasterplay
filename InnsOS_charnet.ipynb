{
 "cells": [
  {
   "cell_type": "markdown",
   "metadata": {},
   "source": [
    "# Character Network for the 1391 Innsbruck Easter Play\n",
    "(What this can - and cannot - do: using CNA for character networks means that I create an undirected edge between two nodes, where the nodes are characters and the edge is drawn between them when the following condition is met: is on stage with during scene. The 'relation' between the characters does not describe what exactly they are doing on stage, for how long they are doing it, if it is reciprocal. The question remains: what can CNA in this design help revealing about plays? Nevertheless, it is fun to play around with this even if it is just to familiarize myself with CNA using Python and the networkx library.)"
   ]
  },
  {
   "cell_type": "markdown",
   "metadata": {},
   "source": [
    "I have read chapters 1-5 in CNA in Python (2018) and done some testing of concepts. I am not convinced that drawing character networks for literary texts using undirected graphs is useful because it does not take into account what kind of interaction between which characters happens, how often (apart from 'interaction per scene') interaction happens and how 'much' happens (lets say: how many lines of dialogue, how much time spent per action etc.).\n",
    "\n",
    "First of all, I think directed graphs are the way to go: If a character A speaks to a character B, it does not mean, that B also speaks to A. I would also consider a reply not the same as an undirected edge (connection between nodes, here: characters). There is always a directional component in dialogue (it is asymmetric). The other problem I see is the number of interactions between the same characters over the course of the play. This must either be expressed in an edge attribute like 'weight', with the value of 'weight' increasing with every directed interaction between the same two characters. Alternatively, edges are added in parallel, for each interaction adding another edge between two characters. I need to read up on this a bit more before I can decide which alternative to follow or if there are more and better suited ones.\n",
    "\n",
    "Simultaneity: Usually, dialogue in plays happens chronologically, not simultaneously, with only one speaker at a time talking or speakers talking after each other, respectively. I is thinkable though, that there is speech-simultaneity in plays when spoken word and song are combined (a choir sings while dialogue is spoken) or as a stylistic feature when tumultous scenes are played. With modern plays (and, for that matter, medieval ones) actual simultaneity is at least possible (think parallel montages in films as a model). For the sake of simplicity, lets assume that dialogue (or other kinds of interaction) happens usually between two characters, chronologically.\n",
    "\n",
    "What I want to model is what type of interaction between whom, how often and for how long (I count words for simplicity's sake).\n",
    "So, putting that into action, what kind of information do I have to extract from the Innsbruck Easter Play and in which data format do I have to put it, so it can be ingested by CNA tools NetworkX and Gephi?"
   ]
  },
  {
   "cell_type": "code",
   "execution_count": 4,
   "metadata": {},
   "outputs": [],
   "source": [
    "# import networkx as nx"
   ]
  },
  {
   "cell_type": "code",
   "execution_count": 12,
   "metadata": {},
   "outputs": [],
   "source": [
    "# G = nx.Graph()\n",
    "# this can apparently be left empty and filled in later with lists or from a .csv file"
   ]
  },
  {
   "cell_type": "code",
   "execution_count": 11,
   "metadata": {},
   "outputs": [],
   "source": [
    "# G.add_nodes_from([\"Expositor\", \"Pilatus\", \"Servus\", \"Nuntius\", \"1_Miles\", \"2_Miles\", \"3_Miles\", \"4_Miles\"])\n",
    "# manually adding a list of nodes from InnsOS"
   ]
  },
  {
   "cell_type": "code",
   "execution_count": 10,
   "metadata": {},
   "outputs": [],
   "source": [
    "# this can be done manually but it bugs me to do so - next step: how to ingest a .csv file and read it"
   ]
  },
  {
   "cell_type": "code",
   "execution_count": 24,
   "metadata": {},
   "outputs": [
    {
     "name": "stdout",
     "output_type": "stream",
     "text": [
      "['source', 'target', 'Pilatus', 'Scena', 'Primus Miles', 'Secundus Miles', 'Tertius Miles', 'Quartus Miles', 'Expositor', 'Spectantes', 'Servus', 'Primus Judaeus', 'Secundus Judaeus', 'Tertius Judaeus', 'Quartus Judaeus', 'Quintus Judaeus', 'Ignotus', 'Nuntius', 'Primus Angelus', 'Secundus Angelus', 'Tertius Angelus', 'Sepulcrum', 'Ihesus', 'Infernum', 'Adam', 'Lucifer', 'Portus Inferni', 'Daemones', 'Eva', 'Anima Infelix', 'Diabolus', 'Palatium Luciferi', 'Sathanas', 'Prima Anima', 'Secunda Anima', 'Tertia Anima', 'Quarta Anima', 'Quinta Anima', 'Sexta Anima', 'Septima Anima', 'Prima Maria', 'Secunda Maria', 'Tertia Maria', 'Mercator', 'Uxor Mercatori', 'Ancilla', 'Rubin', 'Pusterbalk', 'Taberna', 'Lasterbalk', 'Marien', 'Exire', 'Thomas', 'Petrus', 'Iohannes', 'Velum']\n"
     ]
    }
   ],
   "source": [
    "import networkx as nx\n",
    "import csv\n",
    "with open(\"data/innsos_only_edges.csv\") as infile: # has to be adjusted depending on where the file is stored\n",
    "    csv_reader = csv.reader(infile)\n",
    "    G = nx.DiGraph(csv_reader)\n",
    "print(G.nodes())"
   ]
  },
  {
   "cell_type": "code",
   "execution_count": 25,
   "metadata": {},
   "outputs": [
    {
     "name": "stdout",
     "output_type": "stream",
     "text": [
      "['source', 'Pilatus', 'Scena', 'Primus Miles', 'Secundus Miles', 'Tertius Miles', 'Quartus Miles', 'Expositor', 'Spectantes', 'Servus', 'Primus Judaeus', 'Secundus Judaeus', 'Tertius Judaeus', 'Quartus Judaeus', 'Quintus Judaeus', 'Ignotus', 'Nuntius', 'Primus Angelus', 'Secundus Angelus', 'Tertius Angelus', 'Sepulcrum', 'Ihesus', 'Infernum', 'Adam', 'Lucifer', 'Portus Inferni', 'Daemones', 'Eva', 'Anima Infelix', 'Diabolus', 'Palatium Luciferi', 'Sathanas', 'Prima Anima', 'Secunda Anima', 'Tertia Anima', 'Quarta Anima', 'Quinta Anima', 'Sexta Anima', 'Septima Anima', 'Prima Maria', 'Secunda Maria', 'Tertia Maria', 'Mercator', 'Uxor Mercatori', 'Ancilla', 'Rubin', 'Pusterbalk', 'Taberna', 'Lasterbalk', 'Marien', 'Exire', 'Thomas', 'Petrus', 'Iohannes', 'Velum']\n"
     ]
    }
   ],
   "source": [
    "G.remove_nodes_from([\"target\"], )\n",
    "print(G.nodes())"
   ]
  },
  {
   "cell_type": "code",
   "execution_count": 26,
   "metadata": {},
   "outputs": [],
   "source": [
    "nonperson = set((\"Scena\", \"Ignotus\", \"Infernum\", \"Portus Inferni\", \"Palatium Luciferi\", \"Taberna\", \"Exire\", \"Velum\"))\n",
    "nonperson_dict = {node: (node in nonperson) for node in G}\n",
    "nx.set_node_attributes(G, nonperson_dict, \"nonperson\")"
   ]
  },
  {
   "cell_type": "code",
   "execution_count": 27,
   "metadata": {},
   "outputs": [
    {
     "name": "stdout",
     "output_type": "stream",
     "text": [
      "{'Taberna', 'Palatium Luciferi', 'Ignotus', 'Portus Inferni', 'Velum', 'Scena', 'Infernum', 'Exire'}\n"
     ]
    }
   ],
   "source": [
    "print(nonperson)"
   ]
  },
  {
   "cell_type": "code",
   "execution_count": 33,
   "metadata": {},
   "outputs": [
    {
     "ename": "TypeError",
     "evalue": "add_node() takes 2 positional arguments but 3 were given",
     "output_type": "error",
     "traceback": [
      "\u001b[1;31m---------------------------------------------------------------------------\u001b[0m",
      "\u001b[1;31mTypeError\u001b[0m                                 Traceback (most recent call last)",
      "\u001b[1;32m<ipython-input-33-7e0071c89488>\u001b[0m in \u001b[0;36m<module>\u001b[1;34m()\u001b[0m\n\u001b[1;32m----> 1\u001b[1;33m \u001b[0mG\u001b[0m\u001b[1;33m.\u001b[0m\u001b[0madd_node\u001b[0m\u001b[1;33m(\u001b[0m\u001b[1;34m\"Pilatus\"\u001b[0m\u001b[1;33m,\u001b[0m \u001b[1;34m\"Expositor\"\u001b[0m\u001b[1;33m,\u001b[0m \u001b[0mperson\u001b[0m\u001b[1;33m=\u001b[0m\u001b[1;32mTrue\u001b[0m\u001b[1;33m)\u001b[0m\u001b[1;33m\u001b[0m\u001b[0m\n\u001b[0m",
      "\u001b[1;31mTypeError\u001b[0m: add_node() takes 2 positional arguments but 3 were given"
     ]
    }
   ],
   "source": []
  },
  {
   "cell_type": "code",
   "execution_count": null,
   "metadata": {},
   "outputs": [],
   "source": [
    "person = set(())"
   ]
  }
 ],
 "metadata": {
  "kernelspec": {
   "display_name": "Python 3",
   "language": "python",
   "name": "python3"
  },
  "language_info": {
   "codemirror_mode": {
    "name": "ipython",
    "version": 3
   },
   "file_extension": ".py",
   "mimetype": "text/x-python",
   "name": "python",
   "nbconvert_exporter": "python",
   "pygments_lexer": "ipython3",
   "version": "3.6.6"
  }
 },
 "nbformat": 4,
 "nbformat_minor": 2
}
