{
 "cells": [
  {
   "cell_type": "markdown",
   "metadata": {},
   "source": [
    "Following along the book on Complex Network Analysis (CNA), using the Python libraries NetworkX, iGraph, graph-tool, \n",
    "Zinoviev, Dmitry: Complex Network Analysis in Python. Recognize, Construct, Visualize, Analyse, Interpret. Version P1.0 (2018)\n",
    "\n",
    "Since the release of the book, NetworkX has been migrated from v1.0 to v2.0 / v2.1 (July 2018) and some of the functions do not exist any longer - here's a migration guide https://networkx.github.io/documentation/stable/release/migration_guide_from_1.x_to_2.0.html\n",
    "\n",
    "There's the full documentation of NetworkX v2.1 in pdf (666 pages) here https://networkx.github.io/documentation/stable/_downloads/networkx_reference.pdf"
   ]
  },
  {
   "cell_type": "code",
   "execution_count": 1,
   "metadata": {},
   "outputs": [],
   "source": [
    "import networkx as nx"
   ]
  },
  {
   "cell_type": "code",
   "execution_count": 2,
   "metadata": {},
   "outputs": [],
   "source": [
    "G = nx.Graph([(\"A\", \"eggs\"),])\n",
    "G.add_node(\"spinach\") # add a single node\n",
    "G.add_node(\"Hg\") # add a single node by mistake\n",
    "G.add_nodes_from([\"folates\", \"asparagus\", \"liver\"]) # add a list of nodes\n",
    "G.add_edge(\"spinach\", \"folates\") # add one edge, both ends exist\n",
    "G.add_edge(\"spinach\", \"heating oil\") # add one edge by mistake\n",
    "G.add_edge(\"liver\", \"Se\") # add one edge, one end does not exist\n",
    "G.add_edges_from([(\"folates\", \"liver\"), (\"folates\", \"asparagus\")]) # add list of edges"
   ]
  },
  {
   "cell_type": "code",
   "execution_count": 3,
   "metadata": {},
   "outputs": [],
   "source": [
    "G.remove_node(\"Hg\") # removes this node\n",
    "G.remove_nodes_from([\"Hg\",]) # removes a missing node from a list\n",
    "G.remove_edge(\"spinach\", \"heating oil\") # removes edge between these nodes\n",
    "G.remove_edges_from([(\"spinach\", \"heating oil\"),]) # removes edges from a list\n",
    "G.remove_node(\"heating oil\") # not removed yet (?????)"
   ]
  },
  {
   "cell_type": "code",
   "execution_count": 4,
   "metadata": {},
   "outputs": [],
   "source": [
    "# use G.clear to delete all graph nodes and edges at once but keep the graph shell"
   ]
  },
  {
   "cell_type": "code",
   "execution_count": 5,
   "metadata": {},
   "outputs": [
    {
     "name": "stdout",
     "output_type": "stream",
     "text": [
      "['A', 'eggs', 'spinach', 'folates', 'asparagus', 'liver', 'Se']\n"
     ]
    },
    {
     "data": {
      "text/plain": [
       "{'A': {},\n",
       " 'eggs': {},\n",
       " 'spinach': {},\n",
       " 'folates': {},\n",
       " 'asparagus': {},\n",
       " 'liver': {},\n",
       " 'Se': {}}"
      ]
     },
     "execution_count": 5,
     "metadata": {},
     "output_type": "execute_result"
    }
   ],
   "source": [
    "print(G.node)\n",
    "# this returns a node list in v2.1 instead of an attribute dictionary (that is empty)\n",
    "# prior to v2.1 returning a node list was done with print(G.nodes) and print(G.edges) respectively\n",
    "dict(G.nodes)"
   ]
  },
  {
   "cell_type": "code",
   "execution_count": 6,
   "metadata": {},
   "outputs": [],
   "source": [
    "# by the way: G = nx.Graph() creates an empty undirected graph (i.e. we name it / assign the variable \"G\")\n",
    "# G = nx.DiGraph() creates an empty directed graph - many NetworkX algorithms refuse to work with directed graphs,\n",
    "# but they can be convertet into undirected graphs F = nx.Graph(G) - but those two are not the same thing!\n",
    "# multigraphs are like undirected graphs but they can have multiple, parallel edges between the same nodes G = nx.MultiGraph()\n",
    "# there's also directed multigraphs G = nx.MultiDiGraph()"
   ]
  },
  {
   "cell_type": "code",
   "execution_count": 7,
   "metadata": {},
   "outputs": [
    {
     "name": "stdout",
     "output_type": "stream",
     "text": [
      "{'A': {'eggs': {}}, 'eggs': {'A': {}}, 'spinach': {'folates': {}}, 'folates': {'spinach': {}, 'liver': {}, 'asparagus': {}}, 'asparagus': {'folates': {}}, 'liver': {'Se': {}, 'folates': {}}, 'Se': {'liver': {}}}\n"
     ]
    },
    {
     "data": {
      "text/plain": [
       "{('A', 'eggs'): {},\n",
       " ('spinach', 'folates'): {},\n",
       " ('folates', 'liver'): {},\n",
       " ('folates', 'asparagus'): {},\n",
       " ('liver', 'Se'): {}}"
      ]
     },
     "execution_count": 7,
     "metadata": {},
     "output_type": "execute_result"
    }
   ],
   "source": [
    "print(G.adj)\n",
    "# since NetworkX v2.1 way of displaying attributes of edges ('dictionary'),\n",
    "# before it was print(G.edge) which now triggers an error\n",
    "dict(G.edges)"
   ]
  },
  {
   "cell_type": "code",
   "execution_count": 8,
   "metadata": {},
   "outputs": [
    {
     "name": "stdout",
     "output_type": "stream",
     "text": [
      "['A', 'eggs', 'spinach', 'folates', 'asparagus', 'liver', 'Se']\n"
     ]
    }
   ],
   "source": [
    "print(G.nodes())\n",
    "# node list"
   ]
  },
  {
   "cell_type": "code",
   "execution_count": 9,
   "metadata": {},
   "outputs": [
    {
     "name": "stdout",
     "output_type": "stream",
     "text": [
      "[('A', 'eggs'), ('spinach', 'folates'), ('folates', 'liver'), ('folates', 'asparagus'), ('liver', 'Se')]\n"
     ]
    }
   ],
   "source": [
    "print(G.edges())\n",
    "# edge list"
   ]
  },
  {
   "cell_type": "code",
   "execution_count": 10,
   "metadata": {},
   "outputs": [
    {
     "name": "stdout",
     "output_type": "stream",
     "text": [
      "[('A', {}), ('eggs', {}), ('spinach', {}), ('folates', {}), ('asparagus', {}), ('liver', {}), ('Se', {})]\n"
     ]
    }
   ],
   "source": [
    "print(G.nodes(data=True))"
   ]
  },
  {
   "cell_type": "code",
   "execution_count": 11,
   "metadata": {},
   "outputs": [
    {
     "data": {
      "text/plain": [
       "7"
      ]
     },
     "execution_count": 11,
     "metadata": {},
     "output_type": "execute_result"
    }
   ],
   "source": [
    "len(G)"
   ]
  },
  {
   "cell_type": "code",
   "execution_count": 12,
   "metadata": {},
   "outputs": [
    {
     "name": "stdout",
     "output_type": "stream",
     "text": [
      "[('A', 'eggs', {}), ('spinach', 'folates', {}), ('folates', 'liver', {}), ('folates', 'asparagus', {}), ('liver', 'Se', {})]\n"
     ]
    }
   ],
   "source": [
    "print(G.edges(data=True))"
   ]
  },
  {
   "cell_type": "code",
   "execution_count": 13,
   "metadata": {},
   "outputs": [],
   "source": [
    "import csv\n",
    "# imports the library csv for reading and writing .csv files in Python\n",
    "import matplotlib.pyplot as plt\n",
    "# visualisation library for the graphs\n",
    "# import dzcnapy_plotlib as dzcnapy\n",
    "# some personal library especially for this here book (cannot be found, install somehow?)"
   ]
  },
  {
   "cell_type": "code",
   "execution_count": 14,
   "metadata": {},
   "outputs": [
    {
     "name": "stdout",
     "output_type": "stream",
     "text": [
      "['A', 'carrots', 'eggs', 'fatty fish', 'green leafy vegs', 'liver', 'milk', 'tomatoes', 'B12', 'B6', 'asparagus', 'beans', 'kidneys', 'potatoes', 'C', 'pumpkins', 'Ca', 'broccoli', 'cheese', 'Cu', 'nuts', 'whole grains', 'D', 'mushrooms', 'E', 'seeds', 'Mn', 'legumes', 'wheat', 'Se', 'Zn', 'beef', 'riboflavin', 'niacin', 'folates', 'spinach', 'poultry', 'shellfish', 'thiamin', 'veg oils', 'yogurt']\n"
     ]
    }
   ],
   "source": [
    "with open(\"data/nutrients.csv\") as infile: # has to be adjusted depending on where the file is stored\n",
    "    csv_reader = csv.reader(infile)\n",
    "    G = nx.Graph(csv_reader)\n",
    "print(G.nodes())"
   ]
  },
  {
   "cell_type": "code",
   "execution_count": 15,
   "metadata": {},
   "outputs": [],
   "source": [
    "# there's a part of the chapter where there's a selfloop 'hidden' in the nodes list above\n",
    "# that is supposed to be detected with G.selfloop_edges() and removed with G.remove_edges_from\n",
    "# the code should look like this:\n",
    "# loops = G.selfloop_edges()\n",
    "# G.remove_edges_from(loops)\n",
    "# print(loops)\n",
    "# and should return [('tomatoes', 'tomatoes')]\n",
    "# then checked with running the code again\n",
    "# loops = G.selfloop_edges()\n",
    "# print(loops)\n",
    "# []\n",
    "# however, I cannot make it work, since the function has been removed with NetworkX v2.1 and substituted with\n",
    "# nx.selfloop_edges(G) - moving it into a different class\n",
    "# but I cannot make it work with that function either, instead there's an error message\n",
    "# <generator object selfloop_edges.<locals>.<genexpr> at 0x0000021970AD64C0>\n",
    "# haven't found out what to do about it and how to fix it!"
   ]
  },
  {
   "cell_type": "markdown",
   "metadata": {},
   "source": [
    "### Re-labeling nodes (uppercase instead of lowercase) using nx.relabel_nodes()"
   ]
  },
  {
   "cell_type": "code",
   "execution_count": 16,
   "metadata": {},
   "outputs": [
    {
     "name": "stdout",
     "output_type": "stream",
     "text": [
      "['A', 'B12', 'B6', 'C', 'Ca', 'Cu', 'D', 'E', 'Mn', 'Se', 'Zn', 'Carrots', 'Eggs', 'Fatty Fish', 'Green Leafy Vegs', 'Liver', 'Milk', 'Tomatoes', 'Asparagus', 'Beans', 'Kidneys', 'Potatoes', 'Pumpkins', 'Broccoli', 'Cheese', 'Nuts', 'Whole Grains', 'Mushrooms', 'Seeds', 'Legumes', 'Wheat', 'Beef', 'Riboflavin', 'Niacin', 'Folates', 'Spinach', 'Poultry', 'Shellfish', 'Thiamin', 'Veg Oils', 'Yogurt']\n"
     ]
    }
   ],
   "source": [
    "mapping = {node: node.title() for node\n",
    "          in G if isinstance(node, str)}\n",
    "nx.relabel_nodes(G, mapping, copy=False)\n",
    "print(G.nodes())\n",
    "# it works! marvelous!! I have no idea what exactly he does here, though"
   ]
  },
  {
   "cell_type": "code",
   "execution_count": 17,
   "metadata": {},
   "outputs": [
    {
     "name": "stdout",
     "output_type": "stream",
     "text": [
      "{'Liver': {}, 'Beans': {}, 'Kidneys': {}, 'Potatoes': {}, 'Nuts': {}, 'Beef': {}, 'Poultry': {}}\n"
     ]
    }
   ],
   "source": [
    "print(G[\"Zn\"])\n",
    "# prints all nodes that share a connection with \"Zn\""
   ]
  },
  {
   "cell_type": "markdown",
   "metadata": {},
   "source": [
    "### Adding attributes to nodes and edges\n",
    "The book says \"an attribute is implemented as a dictionary associated with the node or edge. The dictionary keys are attribute names. As such, they must be immutable: int, float, bool, str, and so on. There are no limitations on the values.\""
   ]
  },
  {
   "cell_type": "code",
   "execution_count": 18,
   "metadata": {},
   "outputs": [],
   "source": [
    "# attributes can be defined while adding nodes or edges\n",
    "G.add_node(\"Honey\", edible=True)\n",
    "G.add_nodes_from([(\"Steel\", {\"edible\"  : False}), ]) # attention to the syntax here!!\n",
    "G.add_edge(\"Honey\", \"Steel\", weight=0.0)\n",
    "G.add_edges_from([(\"Honey\", \"Zn\"),], related=False)"
   ]
  },
  {
   "cell_type": "code",
   "execution_count": 19,
   "metadata": {},
   "outputs": [],
   "source": [
    "# the edge attribute \"weight\" is used in NetworkX and other CNA libraries consistently to denote edge strength.\n",
    "# graphs using this attribute are called weighted graphs\n",
    "# there's a method for adding weighted graphs:\n",
    "G.add_weighted_edges_from([(\"Honey\", \"Zn\", 0.01), (\"Honey\", \"Sugar\", 0.99)])\n",
    "# when adding several edges with this function, only one set of attributes can be set for all of them"
   ]
  },
  {
   "cell_type": "code",
   "execution_count": 20,
   "metadata": {},
   "outputs": [],
   "source": [
    "G.nodes[\"Zn\"][\"nutrient\"] = True # Zink is a nutrient"
   ]
  },
  {
   "cell_type": "code",
   "execution_count": 21,
   "metadata": {},
   "outputs": [],
   "source": [
    "G.edges[\"Zn\", \"Beef\"][\"weight\"] = 0.95 # Zink and Beef are well connected (high weight)\n",
    "# attention! the functions G.node and G.edge have been migrated to G.nodes[n] and G.edges[u, v] in NetworkX v2.1"
   ]
  },
  {
   "cell_type": "code",
   "execution_count": 22,
   "metadata": {},
   "outputs": [],
   "source": [
    "# removing unwanted attributes for nodes:\n",
    "del G.nodes[\"Zn\"][\"nutrient\"]"
   ]
  },
  {
   "cell_type": "code",
   "execution_count": 23,
   "metadata": {},
   "outputs": [],
   "source": [
    "# removing unwanted attributes for edges:\n",
    "del G.edges[\"Zn\", \"Beef\"][\"weight\"]"
   ]
  },
  {
   "cell_type": "markdown",
   "metadata": {},
   "source": [
    "Create a boolean attribute (\"True\" / \"False\") for all nutrients, called \"nutrient\""
   ]
  },
  {
   "cell_type": "code",
   "execution_count": 24,
   "metadata": {},
   "outputs": [],
   "source": [
    "nutrients = set((\"B12\", \"Zn\", \"D\", \"B6\", \"A\", \"Se\", \"Cu\", \"Folates\", \"Ca\", \"Mn\", \"Thiamin\", \"Riboflavin\", \"C\", \"E\", \"Niacin\"))\n",
    "nutrient_dict = {node: (node in nutrients) for node in G}\n",
    "nx.set_node_attributes(G, nutrient_dict, \"nutrient\")\n",
    "# attention: in NetworkX v2.1 the order of the argument in () has changed from (graph, name, value) to (graph, value, name=None)\n",
    "# name=None allows for name to be ommitted completely"
   ]
  },
  {
   "cell_type": "code",
   "execution_count": 25,
   "metadata": {},
   "outputs": [
    {
     "name": "stdout",
     "output_type": "stream",
     "text": [
      "[('A', {'nutrient': True}), ('B12', {'nutrient': True}), ('B6', {'nutrient': True}), ('C', {'nutrient': True}), ('Ca', {'nutrient': True}), ('Cu', {'nutrient': True}), ('D', {'nutrient': True}), ('E', {'nutrient': True}), ('Mn', {'nutrient': True}), ('Se', {'nutrient': True}), ('Zn', {'nutrient': True}), ('Carrots', {'nutrient': False}), ('Eggs', {'nutrient': False}), ('Fatty Fish', {'nutrient': False}), ('Green Leafy Vegs', {'nutrient': False}), ('Liver', {'nutrient': False}), ('Milk', {'nutrient': False}), ('Tomatoes', {'nutrient': False}), ('Asparagus', {'nutrient': False}), ('Beans', {'nutrient': False}), ('Kidneys', {'nutrient': False}), ('Potatoes', {'nutrient': False}), ('Pumpkins', {'nutrient': False}), ('Broccoli', {'nutrient': False}), ('Cheese', {'nutrient': False}), ('Nuts', {'nutrient': False}), ('Whole Grains', {'nutrient': False}), ('Mushrooms', {'nutrient': False}), ('Seeds', {'nutrient': False}), ('Legumes', {'nutrient': False}), ('Wheat', {'nutrient': False}), ('Beef', {'nutrient': False}), ('Riboflavin', {'nutrient': True}), ('Niacin', {'nutrient': True}), ('Folates', {'nutrient': True}), ('Spinach', {'nutrient': False}), ('Poultry', {'nutrient': False}), ('Shellfish', {'nutrient': False}), ('Thiamin', {'nutrient': True}), ('Veg Oils', {'nutrient': False}), ('Yogurt', {'nutrient': False}), ('Honey', {'edible': True, 'nutrient': False}), ('Steel', {'edible': False, 'nutrient': False}), ('Sugar', {'nutrient': False})]\n"
     ]
    }
   ],
   "source": [
    "print(G.nodes(data=True))\n",
    "# prints the boolean attribute for all nodes,\n",
    "# not only the ones where the attribute \"nutrients\" is True (which I think is counter-intuitive)"
   ]
  },
  {
   "cell_type": "markdown",
   "metadata": {},
   "source": [
    "## Visualizing a Network with Matplotlib\n",
    "Why? NetworkX doesn't do visualization, but the matplotlib.pyplot library can be used for this"
   ]
  },
  {
   "cell_type": "code",
   "execution_count": 26,
   "metadata": {},
   "outputs": [],
   "source": [
    "import matplotlib.pyplot as plt"
   ]
  },
  {
   "cell_type": "markdown",
   "metadata": {},
   "source": [
    "There's a couple of different layouts for network graph visualisations:\n",
    "\n",
    "Random layout --- randomly; requires NumPy library --- pos=nx.random_layout --- nx.draw_randon\n",
    "\n",
    "Circular layout --- on a circle --- pos=nx.circular_layout --- nx.draw_circular\n",
    "\n",
    "Shell layout --- on concentric circles defined by nlist --- pos=nx.shell_layout(G, nlist=None) --- nx.draw_shell\n",
    "\n",
    "Spectral layout --- based on eigenvector centrality values --- pos=nx.spectral_layout --- nx.draw_spectral\n",
    "\n",
    "Force-directed layout --- \"balls connected with springs\" --- pos=nx.frucherman_reingold_layout --- nx.draw_networkx\n",
    "\n",
    "Force-directed layout (alternative) --- pos=nx.spring_layout --- nx.draw_spring\n"
   ]
  },
  {
   "cell_type": "markdown",
   "metadata": {},
   "source": [
    "The books says, \"at the rendering phase, NetworkX draws the nodes, labels, and edges at the prescribed positions, using the default or specified shapes, fonts, and colors. You can see the graphical output on the screen, save it into a file (PNG, PDF, PostScript, EPS, SVG), or both. First save the image, then display it.\""
   ]
  },
  {
   "cell_type": "code",
   "execution_count": 27,
   "metadata": {},
   "outputs": [],
   "source": [
    "import dzcnapy_plotlib as dzcnapy #--- ok, what happens here is that I can import a custom library as long as it lives\n",
    "# in the same directory as the notebook is running in\n",
    "# preparation for drawing\n",
    "colors = [\"yellow\" if n[1][\"nutrient\"] else \"pink\" for n in G.nodes(data=True)]\n",
    "dzcnapy.medium_attrs[\"node_color\"] = colors"
   ]
  },
  {
   "cell_type": "code",
   "execution_count": 28,
   "metadata": {},
   "outputs": [
    {
     "data": {
      "image/png": "[encoded data removed]",
      "text/plain": [
       "<Figure size 432x288 with 4 Axes>"
      ]
     },
     "metadata": {},
     "output_type": "display_data"
    }
   ],
   "source": [
    "_, plot = plt.subplots(2, 2)\n",
    "subplots = plot.reshape(1, 4)[0]\n",
    "layouts = (nx.random_layout, nx.circular_layout, nx.spring_layout, nx.spectral_layout)\n",
    "titles = (\"Random\", \"Circular\", \"Force-directed\", \"Spectral\")\n",
    "for plot, layout, title in zip(subplots, layouts, titles):\n",
    "    pos = layout(G)\n",
    "    nx.draw_networkx(G, pos=pos, ax=plot, with_labels=False,\n",
    "                    **dzcnapy.medium_attrs)\n",
    "    plot.set_title(title)"
   ]
  },
  {
   "cell_type": "code",
   "execution_count": 29,
   "metadata": {},
   "outputs": [],
   "source": [
    "# when not using the dzcnapy plot library, the viz looks horrible;\n",
    "# I don't know how to sensibly reshape the visualisations here and do not fully understand what happens in the cell above"
   ]
  },
  {
   "cell_type": "code",
   "execution_count": 30,
   "metadata": {},
   "outputs": [
    {
     "data": {
      "image/png": "[encoded data removed]",
      "text/plain": [
       "<Figure size 432x288 with 4 Axes>"
      ]
     },
     "metadata": {},
     "output_type": "display_data"
    }
   ],
   "source": [
    "# now the same as above without the dzcnapy plot library\n",
    "_, plot = plt.subplots(2, 2)\n",
    "subplots = plot.reshape(1, 4)[0]\n",
    "layouts = (nx.random_layout, nx.circular_layout, nx.spring_layout, nx.spectral_layout)\n",
    "titles = (\"Random\", \"Circular\", \"Force-directed\", \"Spectral\")\n",
    "for plot, layout, title in zip(subplots, layouts, titles):\n",
    "    pos = layout(G)\n",
    "    nx.draw_networkx(G, pos=pos, ax=plot, with_labels=False)\n",
    "    plot.set_title(title)"
   ]
  },
  {
   "cell_type": "code",
   "execution_count": 31,
   "metadata": {},
   "outputs": [],
   "source": [
    "# does not look pretty - better use something else for visualisation, like Gephi"
   ]
  },
  {
   "cell_type": "code",
   "execution_count": 32,
   "metadata": {},
   "outputs": [],
   "source": [
    "# from networkx.drawing.nx_agraph import graphviz_layout"
   ]
  },
  {
   "cell_type": "code",
   "execution_count": 34,
   "metadata": {},
   "outputs": [],
   "source": [
    "#_, plot = plt.subplots()\n",
    "#pos = graphviz_layout(G)\n",
    "#nx.draw_networkx(G, pos, **dzcnapy.attrs)\n",
    "#dzcnapy.set_extent(pos, plot)\n",
    "#dzcnapy.plot(\"nutrients-graphviz\")\n",
    "\n",
    "# had to out-comment the entire graphviz code because it doesn't run on Windows 64bit even though I got the C++ compiler\n",
    "# installed via Visual Studio v15\n",
    "# seems to be a general problem; since the viz is not supposed to be done like this anyways, I will not go further into this here\n",
    "# will try it out with a Mac machine, though\n",
    "# for teaching purposes, this will be a dead stop in any workshop setting since there is no quick-and-easy fix\n",
    "# also, if viz aren't supposed to be done within the NetworkX environment anyways, there's no point in patching up the graphviz issue\n"
   ]
  },
  {
   "cell_type": "markdown",
   "metadata": {},
   "source": [
    "### Exporting the graph as a file"
   ]
  },
  {
   "cell_type": "code",
   "execution_count": 35,
   "metadata": {},
   "outputs": [],
   "source": [
    "# best to use GraphML file since it is the best interchange format for network graph files"
   ]
  },
  {
   "cell_type": "code",
   "execution_count": 36,
   "metadata": {},
   "outputs": [],
   "source": [
    "nx.write_graphml(G, \"nutrients.graphml\")"
   ]
  },
  {
   "cell_type": "code",
   "execution_count": 37,
   "metadata": {},
   "outputs": [],
   "source": [
    "with open(\"nutrients.graphml\", \"wb\") as ofile:\n",
    "    nx.write_graphml(G, ofile)"
   ]
  },
  {
   "cell_type": "markdown",
   "metadata": {},
   "source": [
    "## Creating a graph from Wikipedia (hyperlinks)"
   ]
  },
  {
   "cell_type": "code",
   "execution_count": 3,
   "metadata": {},
   "outputs": [],
   "source": [
    "#from operator import itemgetter\n",
    "#import networkx as nx\n",
    "#import wikipedia\n",
    "\n",
    "#SEED = \"Complex network\".title()\n",
    "\n",
    "#STOPS = (\"International Standard Serial Number\", \"International Standard Book Number\", \"National Diet Library\", \"International Standard Book Number (Identifier)\", \"Pubmed Identifier\", \"Pubmed Central\", \"Digital Object Identifier\", \"Arxiv\", \"Proc Natl Acad Sci Usa\", \"Bibcode\", \"Library of Congress Control Number\", \"Jstor\")\n",
    "# I want to ignore the hyperlinks to these to avoid starclusters in the network\n",
    "\n"
   ]
  },
  {
   "cell_type": "code",
   "execution_count": 16,
   "metadata": {},
   "outputs": [
    {
     "name": "stdout",
     "output_type": "stream",
     "text": [
      "0 Complex Network\n",
      "2 nodes, 1 edges\n",
      "3 nodes, 2 edges\n",
      "4 nodes, 3 edges\n",
      "5 nodes, 4 edges\n",
      "5 nodes, 4 edges\n",
      "6 nodes, 5 edges\n",
      "7 nodes, 6 edges\n",
      "8 nodes, 7 edges\n",
      "9 nodes, 8 edges\n",
      "10 nodes, 9 edges\n",
      "11 nodes, 10 edges\n",
      "11 nodes, 10 edges\n",
      "12 nodes, 11 edges\n",
      "13 nodes, 12 edges\n",
      "14 nodes, 13 edges\n",
      "15 nodes, 14 edges\n",
      "16 nodes, 15 edges\n",
      "17 nodes, 16 edges\n",
      "18 nodes, 17 edges\n",
      "19 nodes, 18 edges\n",
      "20 nodes, 19 edges\n",
      "21 nodes, 20 edges\n",
      "22 nodes, 21 edges\n",
      "23 nodes, 22 edges\n",
      "24 nodes, 23 edges\n",
      "25 nodes, 24 edges\n",
      "26 nodes, 25 edges\n",
      "27 nodes, 26 edges\n",
      "28 nodes, 27 edges\n",
      "29 nodes, 28 edges\n",
      "30 nodes, 29 edges\n",
      "31 nodes, 30 edges\n",
      "32 nodes, 31 edges\n",
      "33 nodes, 32 edges\n",
      "34 nodes, 33 edges\n",
      "35 nodes, 34 edges\n",
      "35 nodes, 34 edges\n",
      "36 nodes, 35 edges\n",
      "37 nodes, 36 edges\n",
      "38 nodes, 37 edges\n",
      "39 nodes, 38 edges\n",
      "40 nodes, 39 edges\n",
      "41 nodes, 40 edges\n",
      "42 nodes, 41 edges\n",
      "43 nodes, 42 edges\n",
      "44 nodes, 43 edges\n",
      "45 nodes, 44 edges\n",
      "46 nodes, 45 edges\n",
      "47 nodes, 46 edges\n",
      "48 nodes, 47 edges\n",
      "49 nodes, 48 edges\n",
      "50 nodes, 49 edges\n",
      "51 nodes, 50 edges\n",
      "52 nodes, 51 edges\n",
      "53 nodes, 52 edges\n",
      "54 nodes, 53 edges\n",
      "55 nodes, 54 edges\n",
      "56 nodes, 55 edges\n",
      "57 nodes, 56 edges\n",
      "58 nodes, 57 edges\n",
      "59 nodes, 58 edges\n",
      "59 nodes, 58 edges\n",
      "60 nodes, 59 edges\n",
      "61 nodes, 60 edges\n",
      "62 nodes, 61 edges\n",
      "63 nodes, 62 edges\n",
      "64 nodes, 63 edges\n",
      "64 nodes, 63 edges\n",
      "64 nodes, 63 edges\n",
      "65 nodes, 64 edges\n",
      "66 nodes, 65 edges\n",
      "67 nodes, 66 edges\n",
      "67 nodes, 66 edges\n",
      "67 nodes, 66 edges\n",
      "67 nodes, 66 edges\n",
      "68 nodes, 67 edges\n",
      "69 nodes, 68 edges\n",
      "70 nodes, 69 edges\n",
      "71 nodes, 70 edges\n",
      "72 nodes, 71 edges\n",
      "73 nodes, 72 edges\n",
      "74 nodes, 73 edges\n",
      "75 nodes, 74 edges\n",
      "76 nodes, 75 edges\n",
      "77 nodes, 76 edges\n",
      "78 nodes, 77 edges\n",
      "79 nodes, 78 edges\n",
      "80 nodes, 79 edges\n",
      "81 nodes, 80 edges\n",
      "82 nodes, 81 edges\n",
      "83 nodes, 82 edges\n",
      "84 nodes, 83 edges\n",
      "85 nodes, 84 edges\n",
      "86 nodes, 85 edges\n",
      "87 nodes, 86 edges\n",
      "88 nodes, 87 edges\n",
      "88 nodes, 87 edges\n",
      "88 nodes, 87 edges\n",
      "88 nodes, 87 edges\n",
      "89 nodes, 88 edges\n",
      "90 nodes, 89 edges\n",
      "91 nodes, 90 edges\n",
      "92 nodes, 91 edges\n",
      "93 nodes, 92 edges\n",
      "94 nodes, 93 edges\n",
      "95 nodes, 94 edges\n",
      "96 nodes, 95 edges\n",
      "97 nodes, 96 edges\n",
      "98 nodes, 97 edges\n",
      "99 nodes, 98 edges\n",
      "100 nodes, 99 edges\n",
      "101 nodes, 100 edges\n",
      "102 nodes, 101 edges\n",
      "103 nodes, 102 edges\n",
      "104 nodes, 103 edges\n",
      "105 nodes, 104 edges\n",
      "106 nodes, 105 edges\n",
      "107 nodes, 106 edges\n",
      "108 nodes, 107 edges\n",
      "109 nodes, 108 edges\n",
      "110 nodes, 109 edges\n",
      "111 nodes, 110 edges\n",
      "112 nodes, 111 edges\n",
      "113 nodes, 112 edges\n",
      "114 nodes, 113 edges\n",
      "115 nodes, 114 edges\n",
      "116 nodes, 115 edges\n",
      "117 nodes, 116 edges\n",
      "118 nodes, 117 edges\n",
      "119 nodes, 118 edges\n",
      "120 nodes, 119 edges\n",
      "121 nodes, 120 edges\n",
      "1 Adjacency List\n",
      "121 nodes, 120 edges\n",
      "122 nodes, 121 edges\n",
      "123 nodes, 122 edges\n",
      "124 nodes, 123 edges\n",
      "125 nodes, 124 edges\n",
      "126 nodes, 125 edges\n",
      "126 nodes, 126 edges\n",
      "127 nodes, 127 edges\n",
      "128 nodes, 128 edges\n",
      "129 nodes, 129 edges\n",
      "129 nodes, 130 edges\n",
      "130 nodes, 131 edges\n",
      "131 nodes, 132 edges\n",
      "131 nodes, 133 edges\n",
      "131 nodes, 134 edges\n",
      "132 nodes, 135 edges\n",
      "133 nodes, 136 edges\n",
      "133 nodes, 137 edges\n",
      "134 nodes, 138 edges\n",
      "135 nodes, 139 edges\n",
      "136 nodes, 140 edges\n",
      "136 nodes, 141 edges\n",
      "136 nodes, 141 edges\n",
      "137 nodes, 142 edges\n",
      "138 nodes, 143 edges\n",
      "139 nodes, 144 edges\n",
      "140 nodes, 145 edges\n",
      "141 nodes, 146 edges\n",
      "142 nodes, 147 edges\n",
      "143 nodes, 148 edges\n",
      "144 nodes, 149 edges\n",
      "145 nodes, 150 edges\n",
      "146 nodes, 151 edges\n",
      "147 nodes, 152 edges\n",
      "148 nodes, 153 edges\n",
      "149 nodes, 154 edges\n",
      "150 nodes, 155 edges\n",
      "150 nodes, 156 edges\n",
      "151 nodes, 157 edges\n"
     ]
    }
   ],
   "source": [
    "from operator import itemgetter\n",
    "import networkx as nx\n",
    "import wikipedia\n",
    "\n",
    "SEED = \"Complex network\".title()\n",
    "\n",
    "STOPS = (\"International Standard Serial Number\",\n",
    "         \"International Standard Book Number\",\n",
    "         \"National Diet Library\",\n",
    "         \"International Standard Book Number (Identifier)\", \n",
    "         \"Pubmed Identifier\", \"Pubmed Central\",\n",
    "         \"Digital Object Identifier\", \n",
    "         \"Arxiv\", \n",
    "         \"Proc Natl Acad Sci Usa\", \n",
    "         \"Bibcode\", \n",
    "         \"Library of Congress Control Number\", \n",
    "         \"Jstor\")\n",
    "# I want to ignore the hyperlinks to these to avoid starclusters in the network\n",
    "\n",
    "todo_lst = [(0, SEED)] # the SEED is in the layer 0\n",
    "todo_set = set(SEED) # the SEED itself\n",
    "done_set = set() # nothing is done yet\n",
    "\n",
    "F = nx.DiGraph()\n",
    "layer, page = todo_lst[0]\n",
    "\n",
    "while layer < 2:\n",
    "    del todo_lst[0]\n",
    "    done_set.add(page)\n",
    "    print(layer, page) # show progress\n",
    "    try:\n",
    "        wiki = wikipedia.page(page)\n",
    "    except:\n",
    "        layer, page = todo_lst[0]\n",
    "        print(\"Could not load\", page)\n",
    "        continue\n",
    "    for link in wiki.links:\n",
    "        link = link.title()\n",
    "        if link not in STOPS and not link.startswith(\"List Of\"):\n",
    "            if link not in todo_set and link not in done_set:\n",
    "                todo_lst.append((layer + 1, link))\n",
    "                todo_set.add(link)\n",
    "            F.add_edge(page, link)\n",
    "            layer, page = todo_lst[0]\n",
    "        print(\"{} nodes, {} edges\".format(len(F), nx.number_of_edges(F))) # 11597 nodes, 21331 edges\n",
    "# not even close! I get (2018-08-01) 151 nodes, 157 edges\n",
    "# I can slightly increase the number of nodes and edges by removing items from STOPS\n",
    "# perhaps it's not a very good seed anymore?"
   ]
  },
  {
   "cell_type": "markdown",
   "metadata": {},
   "source": [
    "Removing duplicates, selfloops etc."
   ]
  },
  {
   "cell_type": "code",
   "execution_count": 15,
   "metadata": {},
   "outputs": [],
   "source": [
    "F.remove_edges_from(F.selfloop_edges())\n",
    "duplicates = [(node, node + \"s\") for node in F if node + \"s\" in F]\n",
    "for dup in duplicates:\n",
    "    F = nx.contracted_nodes(F, *dup, self_loops=False)\n",
    "duplicates = [(x, y) for x, y in [(node, node.replace(\"-\", \" \")) for node in F] if x != y and y in F]\n",
    "for dup in duplicates:\n",
    "    F = nx.contracted_nodes(F, *dup, self_loops=False)\n",
    "    nx.set_node_attributes(F, \"contraction\", 0)"
   ]
  },
  {
   "cell_type": "code",
   "execution_count": 11,
   "metadata": {},
   "outputs": [],
   "source": [
    "# I'm unsure if this gives back any result, especially given that the selfloop commands have been discontinued with NetworkX v2.1\n",
    "# I would have to write a print statement to check first for the duplictes and later for the merger"
   ]
  },
  {
   "cell_type": "markdown",
   "metadata": {},
   "source": [
    "## Truncate the Network\n",
    "### Network measures\n",
    "#### indegree\n",
    "Indegree is a node measure for the number of edges directed into the node\n",
    "Outdegree is a node measure for the number of edges directed out of the node (from)\n",
    "For the Wikipedia example, the indegree of a node equals the number of HTML links pointing to the page; if the page has a lot of links to it, the topic of the page must be significant (I guess, mathematically speaking --> look up \"Significance\" as a measure)\n",
    "Indegree as a measure for significance can shrink graph size significantly: most of the nodes have only one connection, they can be removed to make the network more compact and less 'hairy' without hurting the final results, because if a node has one incoming edge, removing the node affects the outdegree of some other node, but that's not relevant for indegree measure; if a node has one outgoing edge (and the node is not the seed), you could not have found it with the here used 'snowballing' method"
   ]
  },
  {
   "cell_type": "code",
   "execution_count": 21,
   "metadata": {},
   "outputs": [
    {
     "name": "stdout",
     "output_type": "stream",
     "text": [
      "9 nodes, 15 edges\n"
     ]
    }
   ],
   "source": [
    "core = [node for node, deg in F.degree() if deg >= 2]\n",
    "# I have removed .items() from F.degree().items() and the code runs fine (but with the correct output?)\n",
    "# Otherwise, AttributeError: 'DiDegreeView' object has no attribute 'items\n",
    "# I haven't found anything related to this in the NetworkX v2.1 documentation\n",
    "# The issue is reported for the book, but hasn't be solved as far as I can see\n",
    "G = nx.subgraph(F, core)\n",
    "print(\"{} nodes, {} edges\".format(len(G), nx.number_of_edges(G))) # 2995 nodes, 11817 edges\n",
    "nx.write_graphml(G, \"cna.graphml\")"
   ]
  },
  {
   "cell_type": "code",
   "execution_count": null,
   "metadata": {},
   "outputs": [],
   "source": []
  }
 ],
 "metadata": {
  "anaconda-cloud": {},
  "kernelspec": {
   "display_name": "Python 3",
   "language": "python",
   "name": "python3"
  },
  "language_info": {
   "codemirror_mode": {
    "name": "ipython",
    "version": 3
   },
   "file_extension": ".py",
   "mimetype": "text/x-python",
   "name": "python",
   "nbconvert_exporter": "python",
   "pygments_lexer": "ipython3",
   "version": "3.6.6"
  }
 },
 "nbformat": 4,
 "nbformat_minor": 2
}
