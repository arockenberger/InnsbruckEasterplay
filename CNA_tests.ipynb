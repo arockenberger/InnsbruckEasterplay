{
 "cells": [
  {
   "cell_type": "markdown",
   "metadata": {},
   "source": [
    "Following along the book on Complex Network Analysis (CNA), using the Python libraries NetworkX, iGraph, graph-tool, \n",
    "Zinoviev, Dmitry: Complex Network Analysis in Python. Recognize, Construct, Visualize, Analyse, Interpret. Version P1.0 (2018)\n",
    "\n",
    "Since the release of the book, NetworkX has been migrated from v1.0 to v2.0 / v2.1 (July 2018) and some of the functions do not exist any longer - here's a migration guide https://networkx.github.io/documentation/stable/release/migration_guide_from_1.x_to_2.0.html\n",
    "\n",
    "There's the full documentation of NetworkX v2.1 in pdf (666 pages) here https://networkx.github.io/documentation/stable/_downloads/networkx_reference.pdf"
   ]
  },
  {
   "cell_type": "code",
   "execution_count": 13,
   "metadata": {},
   "outputs": [],
   "source": [
    "import networkx as nx"
   ]
  },
  {
   "cell_type": "code",
   "execution_count": 14,
   "metadata": {},
   "outputs": [],
   "source": [
    "G = nx.Graph([(\"A\", \"eggs\"),])\n",
    "G.add_node(\"spinach\") # add a single node\n",
    "G.add_node(\"Hg\") # add a single node by mistake\n",
    "G.add_nodes_from([\"folates\", \"asparagus\", \"liver\"]) # add a list of nodes\n",
    "G.add_edge(\"spinach\", \"folates\") # add one edge, both ends exist\n",
    "G.add_edge(\"spinach\", \"heating oil\") # add one edge by mistake\n",
    "G.add_edge(\"liver\", \"Se\") # add one edge, one end does not exist\n",
    "G.add_edges_from([(\"folates\", \"liver\"), (\"folates\", \"asparagus\")]) # add list of edges"
   ]
  },
  {
   "cell_type": "code",
   "execution_count": 15,
   "metadata": {},
   "outputs": [],
   "source": [
    "G.remove_node(\"Hg\") # removes this node\n",
    "G.remove_nodes_from([\"Hg\",]) # removes a missing node from a list\n",
    "G.remove_edge(\"spinach\", \"heating oil\") # removes edge between these nodes\n",
    "G.remove_edges_from([(\"spinach\", \"heating oil\"),]) # removes edges from a list\n",
    "G.remove_node(\"heating oil\") # not removed yet (?????)"
   ]
  },
  {
   "cell_type": "code",
   "execution_count": 16,
   "metadata": {},
   "outputs": [],
   "source": [
    "# use G.clear to delete all graph nodes and edges at once but keep the graph shell"
   ]
  },
  {
   "cell_type": "code",
   "execution_count": 34,
   "metadata": {},
   "outputs": [
    {
     "name": "stdout",
     "output_type": "stream",
     "text": [
      "['A', 'eggs', 'spinach', 'folates', 'asparagus', 'liver', 'Se']\n"
     ]
    },
    {
     "data": {
      "text/plain": [
       "{'A': {},\n",
       " 'eggs': {},\n",
       " 'spinach': {},\n",
       " 'folates': {},\n",
       " 'asparagus': {},\n",
       " 'liver': {},\n",
       " 'Se': {}}"
      ]
     },
     "execution_count": 34,
     "metadata": {},
     "output_type": "execute_result"
    }
   ],
   "source": [
    "print(G.node)\n",
    "# this returns a node list in v2.1 instead of an attribute dictionary (that is empty)\n",
    "# prior to v2.1 returning a node list was done with print(G.nodes) and print(G.edges) respectively\n",
    "dict(G.nodes)"
   ]
  },
  {
   "cell_type": "code",
   "execution_count": 18,
   "metadata": {},
   "outputs": [],
   "source": [
    "# by the way: G = nx.Graph() creates an empty undirected graph (i.e. we name it / assign the variable \"G\")\n",
    "# G = nx.DiGraph() creates an empty directed graph - many NetworkX algorithms refuse to work with directed graphs,\n",
    "# but they can be convertet into undirected graphs F = nx.Graph(G) - but those two are not the same thing!\n",
    "# multigraphs are like undirected graphs but they can have multiple, parallel edges between the same nodes G = nx.MultiGraph()\n",
    "# there's also directed multigraphs G = nx.MultiDiGraph()"
   ]
  },
  {
   "cell_type": "code",
   "execution_count": 36,
   "metadata": {},
   "outputs": [
    {
     "name": "stdout",
     "output_type": "stream",
     "text": [
      "{'A': {'eggs': {}}, 'eggs': {'A': {}}, 'spinach': {'folates': {}}, 'folates': {'spinach': {}, 'liver': {}, 'asparagus': {}}, 'asparagus': {'folates': {}}, 'liver': {'Se': {}, 'folates': {}}, 'Se': {'liver': {}}}\n"
     ]
    },
    {
     "data": {
      "text/plain": [
       "{('A', 'eggs'): {},\n",
       " ('spinach', 'folates'): {},\n",
       " ('folates', 'liver'): {},\n",
       " ('folates', 'asparagus'): {},\n",
       " ('liver', 'Se'): {}}"
      ]
     },
     "execution_count": 36,
     "metadata": {},
     "output_type": "execute_result"
    }
   ],
   "source": [
    "print(G.adj)\n",
    "# since NetworkX v2.1 way of displaying attributes of edges ('dictionary'),\n",
    "# before it was print(G.edge) which now triggers an error\n",
    "dict(G.edges)"
   ]
  },
  {
   "cell_type": "code",
   "execution_count": 37,
   "metadata": {},
   "outputs": [
    {
     "name": "stdout",
     "output_type": "stream",
     "text": [
      "['A', 'eggs', 'spinach', 'folates', 'asparagus', 'liver', 'Se']\n"
     ]
    }
   ],
   "source": [
    "print(G.nodes())\n",
    "# node list"
   ]
  },
  {
   "cell_type": "code",
   "execution_count": 38,
   "metadata": {},
   "outputs": [
    {
     "name": "stdout",
     "output_type": "stream",
     "text": [
      "[('A', 'eggs'), ('spinach', 'folates'), ('folates', 'liver'), ('folates', 'asparagus'), ('liver', 'Se')]\n"
     ]
    }
   ],
   "source": [
    "print(G.edges())\n",
    "# edge list"
   ]
  },
  {
   "cell_type": "code",
   "execution_count": 39,
   "metadata": {},
   "outputs": [
    {
     "name": "stdout",
     "output_type": "stream",
     "text": [
      "[('A', {}), ('eggs', {}), ('spinach', {}), ('folates', {}), ('asparagus', {}), ('liver', {}), ('Se', {})]\n"
     ]
    }
   ],
   "source": [
    "print(G.nodes(data=True))"
   ]
  },
  {
   "cell_type": "code",
   "execution_count": 40,
   "metadata": {},
   "outputs": [
    {
     "data": {
      "text/plain": [
       "7"
      ]
     },
     "execution_count": 40,
     "metadata": {},
     "output_type": "execute_result"
    }
   ],
   "source": [
    "len(G)"
   ]
  },
  {
   "cell_type": "code",
   "execution_count": 41,
   "metadata": {},
   "outputs": [
    {
     "name": "stdout",
     "output_type": "stream",
     "text": [
      "[('A', 'eggs', {}), ('spinach', 'folates', {}), ('folates', 'liver', {}), ('folates', 'asparagus', {}), ('liver', 'Se', {})]\n"
     ]
    }
   ],
   "source": [
    "print(G.edges(data=True))"
   ]
  },
  {
   "cell_type": "code",
   "execution_count": null,
   "metadata": {},
   "outputs": [],
   "source": []
  }
 ],
 "metadata": {
  "anaconda-cloud": {},
  "kernelspec": {
   "display_name": "Python 3",
   "language": "python",
   "name": "python3"
  },
  "language_info": {
   "codemirror_mode": {
    "name": "ipython",
    "version": 3
   },
   "file_extension": ".py",
   "mimetype": "text/x-python",
   "name": "python",
   "nbconvert_exporter": "python",
   "pygments_lexer": "ipython3",
   "version": "3.6.5"
  }
 },
 "nbformat": 4,
 "nbformat_minor": 2
}
