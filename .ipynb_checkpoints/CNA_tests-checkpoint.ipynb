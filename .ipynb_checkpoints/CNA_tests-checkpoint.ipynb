{
 "cells": [
  {
   "cell_type": "markdown",
   "metadata": {},
   "source": [
    "Following along the book on Complex Network Analysis, using the Python library networkx for CNA"
   ]
  },
  {
   "cell_type": "code",
   "execution_count": 1,
   "metadata": {},
   "outputs": [],
   "source": [
    "import networkx as nx"
   ]
  },
  {
   "cell_type": "code",
   "execution_count": 4,
   "metadata": {},
   "outputs": [],
   "source": [
    "G = nx.Graph([(\"A\", \"eggs\"),])\n",
    "G.add_node(\"spinach\") # add a single node\n",
    "G.add_node(\"Hg\") # add a single node by mistake\n",
    "G.add_nodes_from([\"folates\", \"asparagus\", \"liver\"]) # add a list of nodes\n",
    "G.add_edge(\"spinach\", \"folates\") # add one edge, both ends exist\n",
    "G.add_edge(\"spinach\", \"heating oil\") # add one edge by mistake\n",
    "G.add_edge(\"liver\", \"Se\") # add one edge, one end does not exist\n",
    "G.add_edges_from([(\"folates\", \"liver\"), (\"folates\", \"asparagus\")]) # add list of edges"
   ]
  },
  {
   "cell_type": "code",
   "execution_count": 5,
   "metadata": {},
   "outputs": [],
   "source": [
    "G.remove_node(\"Hg\") # removes this node\n",
    "G.remove_nodes_from([\"Hg\",]) # removes a missing node from a list\n",
    "G.remove_edge(\"spinach\", \"heating oil\") # removes edge between these nodes\n",
    "G.remove_edges_from([(\"spinach\", \"heating oil\"),]) # removes edges from a list\n",
    "G.remove_node(\"heating oil\") # not removed yet (?????)"
   ]
  },
  {
   "cell_type": "code",
   "execution_count": 6,
   "metadata": {},
   "outputs": [],
   "source": [
    "# use G.clear to delete all graph nodes and edges at once but keep the graph shell"
   ]
  },
  {
   "cell_type": "code",
   "execution_count": 7,
   "metadata": {},
   "outputs": [
    {
     "name": "stdout",
     "output_type": "stream",
     "text": [
      "['spinach', 'asparagus', 'Se', 'A', 'folates', 'eggs', 'liver']\n"
     ]
    }
   ],
   "source": [
    "print(G.node)"
   ]
  },
  {
   "cell_type": "code",
   "execution_count": null,
   "metadata": {},
   "outputs": [],
   "source": []
  }
 ],
 "metadata": {
  "anaconda-cloud": {},
  "kernelspec": {
   "display_name": "Python [default]",
   "language": "python",
   "name": "python3"
  },
  "language_info": {
   "codemirror_mode": {
    "name": "ipython",
    "version": 3
   },
   "file_extension": ".py",
   "mimetype": "text/x-python",
   "name": "python",
   "nbconvert_exporter": "python",
   "pygments_lexer": "ipython3",
   "version": "3.5.5"
  }
 },
 "nbformat": 4,
 "nbformat_minor": 2
}
