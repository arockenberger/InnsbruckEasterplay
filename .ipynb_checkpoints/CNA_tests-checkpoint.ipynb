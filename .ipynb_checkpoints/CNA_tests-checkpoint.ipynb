{
 "cells": [
  {
   "cell_type": "markdown",
   "metadata": {},
   "source": [
    "Following along the book on Complex Network Analysis (CNA), using the Python libraries NetworkX, iGraph, graph-tool, \n",
    "Zinoviev, Dmitry: Complex Network Analysis in Python. Recognize, Construct, Visualize, Analyse, Interpret. Version P1.0 (2018)\n",
    "\n",
    "Since the release of the book, NetworkX has been migrated from v1.0 to v2.0 / v2.1 (July 2018) and some of the functions do not exist any longer - here's a migration guide https://networkx.github.io/documentation/stable/release/migration_guide_from_1.x_to_2.0.html\n",
    "\n",
    "There's the full documentation of NetworkX v2.1 in pdf (666 pages) here https://networkx.github.io/documentation/stable/_downloads/networkx_reference.pdf"
   ]
  },
  {
   "cell_type": "code",
   "execution_count": 13,
   "metadata": {},
   "outputs": [],
   "source": [
    "import networkx as nx"
   ]
  },
  {
   "cell_type": "code",
   "execution_count": 14,
   "metadata": {},
   "outputs": [],
   "source": [
    "G = nx.Graph([(\"A\", \"eggs\"),])\n",
    "G.add_node(\"spinach\") # add a single node\n",
    "G.add_node(\"Hg\") # add a single node by mistake\n",
    "G.add_nodes_from([\"folates\", \"asparagus\", \"liver\"]) # add a list of nodes\n",
    "G.add_edge(\"spinach\", \"folates\") # add one edge, both ends exist\n",
    "G.add_edge(\"spinach\", \"heating oil\") # add one edge by mistake\n",
    "G.add_edge(\"liver\", \"Se\") # add one edge, one end does not exist\n",
    "G.add_edges_from([(\"folates\", \"liver\"), (\"folates\", \"asparagus\")]) # add list of edges"
   ]
  },
  {
   "cell_type": "code",
   "execution_count": 15,
   "metadata": {},
   "outputs": [],
   "source": [
    "G.remove_node(\"Hg\") # removes this node\n",
    "G.remove_nodes_from([\"Hg\",]) # removes a missing node from a list\n",
    "G.remove_edge(\"spinach\", \"heating oil\") # removes edge between these nodes\n",
    "G.remove_edges_from([(\"spinach\", \"heating oil\"),]) # removes edges from a list\n",
    "G.remove_node(\"heating oil\") # not removed yet (?????)"
   ]
  },
  {
   "cell_type": "code",
   "execution_count": 16,
   "metadata": {},
   "outputs": [],
   "source": [
    "# use G.clear to delete all graph nodes and edges at once but keep the graph shell"
   ]
  },
  {
   "cell_type": "code",
   "execution_count": 34,
   "metadata": {},
   "outputs": [
    {
     "name": "stdout",
     "output_type": "stream",
     "text": [
      "['A', 'eggs', 'spinach', 'folates', 'asparagus', 'liver', 'Se']\n"
     ]
    },
    {
     "data": {
      "text/plain": [
       "{'A': {},\n",
       " 'eggs': {},\n",
       " 'spinach': {},\n",
       " 'folates': {},\n",
       " 'asparagus': {},\n",
       " 'liver': {},\n",
       " 'Se': {}}"
      ]
     },
     "execution_count": 34,
     "metadata": {},
     "output_type": "execute_result"
    }
   ],
   "source": [
    "print(G.node)\n",
    "# this returns a node list in v2.1 instead of an attribute dictionary (that is empty)\n",
    "# prior to v2.1 returning a node list was done with print(G.nodes) and print(G.edges) respectively\n",
    "dict(G.nodes)"
   ]
  },
  {
   "cell_type": "code",
   "execution_count": 18,
   "metadata": {},
   "outputs": [],
   "source": [
    "# by the way: G = nx.Graph() creates an empty undirected graph (i.e. we name it / assign the variable \"G\")\n",
    "# G = nx.DiGraph() creates an empty directed graph - many NetworkX algorithms refuse to work with directed graphs,\n",
    "# but they can be convertet into undirected graphs F = nx.Graph(G) - but those two are not the same thing!\n",
    "# multigraphs are like undirected graphs but they can have multiple, parallel edges between the same nodes G = nx.MultiGraph()\n",
    "# there's also directed multigraphs G = nx.MultiDiGraph()"
   ]
  },
  {
   "cell_type": "code",
   "execution_count": 36,
   "metadata": {},
   "outputs": [
    {
     "name": "stdout",
     "output_type": "stream",
     "text": [
      "{'A': {'eggs': {}}, 'eggs': {'A': {}}, 'spinach': {'folates': {}}, 'folates': {'spinach': {}, 'liver': {}, 'asparagus': {}}, 'asparagus': {'folates': {}}, 'liver': {'Se': {}, 'folates': {}}, 'Se': {'liver': {}}}\n"
     ]
    },
    {
     "data": {
      "text/plain": [
       "{('A', 'eggs'): {},\n",
       " ('spinach', 'folates'): {},\n",
       " ('folates', 'liver'): {},\n",
       " ('folates', 'asparagus'): {},\n",
       " ('liver', 'Se'): {}}"
      ]
     },
     "execution_count": 36,
     "metadata": {},
     "output_type": "execute_result"
    }
   ],
   "source": [
    "print(G.adj)\n",
    "# since NetworkX v2.1 way of displaying attributes of edges ('dictionary'),\n",
    "# before it was print(G.edge) which now triggers an error\n",
    "dict(G.edges)"
   ]
  },
  {
   "cell_type": "code",
   "execution_count": 37,
   "metadata": {},
   "outputs": [
    {
     "name": "stdout",
     "output_type": "stream",
     "text": [
      "['A', 'eggs', 'spinach', 'folates', 'asparagus', 'liver', 'Se']\n"
     ]
    }
   ],
   "source": [
    "print(G.nodes())\n",
    "# node list"
   ]
  },
  {
   "cell_type": "code",
   "execution_count": 38,
   "metadata": {},
   "outputs": [
    {
     "name": "stdout",
     "output_type": "stream",
     "text": [
      "[('A', 'eggs'), ('spinach', 'folates'), ('folates', 'liver'), ('folates', 'asparagus'), ('liver', 'Se')]\n"
     ]
    }
   ],
   "source": [
    "print(G.edges())\n",
    "# edge list"
   ]
  },
  {
   "cell_type": "code",
   "execution_count": 39,
   "metadata": {},
   "outputs": [
    {
     "name": "stdout",
     "output_type": "stream",
     "text": [
      "[('A', {}), ('eggs', {}), ('spinach', {}), ('folates', {}), ('asparagus', {}), ('liver', {}), ('Se', {})]\n"
     ]
    }
   ],
   "source": [
    "print(G.nodes(data=True))"
   ]
  },
  {
   "cell_type": "code",
   "execution_count": 40,
   "metadata": {},
   "outputs": [
    {
     "data": {
      "text/plain": [
       "7"
      ]
     },
     "execution_count": 40,
     "metadata": {},
     "output_type": "execute_result"
    }
   ],
   "source": [
    "len(G)"
   ]
  },
  {
   "cell_type": "code",
   "execution_count": 41,
   "metadata": {},
   "outputs": [
    {
     "name": "stdout",
     "output_type": "stream",
     "text": [
      "[('A', 'eggs', {}), ('spinach', 'folates', {}), ('folates', 'liver', {}), ('folates', 'asparagus', {}), ('liver', 'Se', {})]\n"
     ]
    }
   ],
   "source": [
    "print(G.edges(data=True))"
   ]
  },
  {
   "cell_type": "code",
   "execution_count": 48,
   "metadata": {},
   "outputs": [],
   "source": [
    "import csv\n",
    "# imports the library csv for reading and writing .csv files in Python\n",
    "import matplotlib.pyplot as plt\n",
    "# visualisation library for the graphs\n",
    "# import dzcnapy_plotlib as dzcnapy\n",
    "# some personal library especially for this here book (cannot be found, install somehow?)"
   ]
  },
  {
   "cell_type": "code",
   "execution_count": 50,
   "metadata": {},
   "outputs": [
    {
     "name": "stdout",
     "output_type": "stream",
     "text": [
      "['A', 'carrots', 'eggs', 'fatty fish', 'green leafy vegs', 'liver', 'milk', 'tomatoes', 'B12', 'B6', 'asparagus', 'beans', 'kidneys', 'potatoes', 'C', 'pumpkins', 'Ca', 'broccoli', 'cheese', 'Cu', 'nuts', 'whole grains', 'D', 'mushrooms', 'E', 'seeds', 'Mn', 'legumes', 'wheat', 'Se', 'Zn', 'beef', 'riboflavin', 'niacin', 'folates', 'spinach', 'poultry', 'shellfish', 'thiamin', 'veg oils', 'yogurt']\n"
     ]
    }
   ],
   "source": [
    "with open(\"data/nutrients.csv\") as infile: # has to be adjusted depending on where the file is stored\n",
    "    csv_reader = csv.reader(infile)\n",
    "    G = nx.Graph(csv_reader)\n",
    "print(G.nodes())"
   ]
  },
  {
   "cell_type": "code",
   "execution_count": 69,
   "metadata": {},
   "outputs": [],
   "source": [
    "# there's a part of the chapter where there's a selfloop 'hidden' in the nodes list above\n",
    "# that is supposed to be detected with G.selfloop_edges() and removed with G.remove_edges_from\n",
    "# the code should look like this:\n",
    "# loops = G.selfloop_edges()\n",
    "# G.remove_edges_from(loops)\n",
    "# print(loops)\n",
    "# and should return [('tomatoes', 'tomatoes')]\n",
    "# then checked with running the code again\n",
    "# loops = G.selfloop_edges()\n",
    "# print(loops)\n",
    "# []\n",
    "# however, I cannot make it work, since the function has been removed with NetworkX v2.1 and substituted with\n",
    "# nx.selfloop_edges(G) - moving it into a different class\n",
    "# but I cannot make it work with that function either, instead there's an error message\n",
    "# <generator object selfloop_edges.<locals>.<genexpr> at 0x0000021970AD64C0>\n",
    "# haven't found out what to do about it and how to fix it!"
   ]
  },
  {
   "cell_type": "markdown",
   "metadata": {},
   "source": [
    "### Re-labeling nodes (uppercase instead of lowercase) using nx.relabel_nodes()"
   ]
  },
  {
   "cell_type": "code",
   "execution_count": 71,
   "metadata": {},
   "outputs": [
    {
     "name": "stdout",
     "output_type": "stream",
     "text": [
      "['A', 'B12', 'B6', 'C', 'Ca', 'Cu', 'D', 'E', 'Mn', 'Se', 'Zn', 'Carrots', 'Eggs', 'Fatty Fish', 'Green Leafy Vegs', 'Liver', 'Milk', 'Tomatoes', 'Asparagus', 'Beans', 'Kidneys', 'Potatoes', 'Pumpkins', 'Broccoli', 'Cheese', 'Nuts', 'Whole Grains', 'Mushrooms', 'Seeds', 'Legumes', 'Wheat', 'Beef', 'Riboflavin', 'Niacin', 'Folates', 'Spinach', 'Poultry', 'Shellfish', 'Thiamin', 'Veg Oils', 'Yogurt']\n"
     ]
    }
   ],
   "source": [
    "mapping = {node: node.title() for node\n",
    "          in G if isinstance(node, str)}\n",
    "nx.relabel_nodes(G, mapping, copy=False)\n",
    "print(G.nodes())\n",
    "# it works! marvelous!! I have no idea what exactly he does here, though"
   ]
  },
  {
   "cell_type": "code",
   "execution_count": 72,
   "metadata": {},
   "outputs": [
    {
     "name": "stdout",
     "output_type": "stream",
     "text": [
      "{'Liver': {}, 'Beans': {}, 'Kidneys': {}, 'Potatoes': {}, 'Nuts': {}, 'Beef': {}, 'Poultry': {}}\n"
     ]
    }
   ],
   "source": [
    "print(G[\"Zn\"])\n",
    "# prints all nodes that share a connection with \"Zn\""
   ]
  },
  {
   "cell_type": "markdown",
   "metadata": {},
   "source": [
    "### Adding attributes to nodes and edges\n",
    "The book says \"an attribute is implemented as a dictionary associated with the node or edge. The dictionary keys are attribute names. As such, they must be immutable: int, float, bool, str, and so on. There are no limitations on the values.\""
   ]
  },
  {
   "cell_type": "code",
   "execution_count": 77,
   "metadata": {},
   "outputs": [],
   "source": [
    "# attributes can be defined while adding nodes or edges\n",
    "G.add_node(\"Honey\", edible=True)\n",
    "G.add_nodes_from([(\"Steel\", {\"edible\"  : False}), ]) # attention to the syntax here!!\n",
    "G.add_edge(\"Honey\", \"Steel\", weight=0.0)\n",
    "G.add_edges_from([(\"Honey\", \"Zn\"),], related=False)"
   ]
  },
  {
   "cell_type": "code",
   "execution_count": 78,
   "metadata": {},
   "outputs": [],
   "source": [
    "# the edge attribute \"weight\" is used in NetworkX and other CNA libraries consistently to denote edge strength.\n",
    "# graphs using this attribute are called weighted graphs\n",
    "# there's a method for adding weighted graphs:\n",
    "G.add_weighted_edges_from([(\"Honey\", \"Zn\", 0.01), (\"Honey\", \"Sugar\", 0.99)])\n",
    "# when adding several edges with this function, only one set of attributes can be set for all of them"
   ]
  },
  {
   "cell_type": "code",
   "execution_count": 81,
   "metadata": {},
   "outputs": [],
   "source": [
    "G.nodes[\"Zn\"][\"nutrient\"] = True # Zink is a nutrient"
   ]
  },
  {
   "cell_type": "code",
   "execution_count": 86,
   "metadata": {},
   "outputs": [],
   "source": [
    "G.edges[\"Zn\", \"Beef\"][\"weight\"] = 0.95 # Zink and Beef are well connected (high weight)\n",
    "# attention! the functions G.node and G.edge have been migrated to G.nodes[n] and G.edges[u, v] in NetworkX v2.1"
   ]
  },
  {
   "cell_type": "code",
   "execution_count": 87,
   "metadata": {},
   "outputs": [],
   "source": [
    "# removing unwanted attributes for nodes:\n",
    "del G.nodes[\"Zn\"][\"nutrient\"]"
   ]
  },
  {
   "cell_type": "code",
   "execution_count": 88,
   "metadata": {},
   "outputs": [],
   "source": [
    "# removing unwanted attributes for edges:\n",
    "del G.edges[\"Zn\", \"Beef\"][\"weight\"]"
   ]
  },
  {
   "cell_type": "markdown",
   "metadata": {},
   "source": [
    "Create a boolean attribute (\"True\" / \"False\") for all nutrients, called \"nutrient\""
   ]
  },
  {
   "cell_type": "code",
   "execution_count": 93,
   "metadata": {},
   "outputs": [],
   "source": [
    "nutrients = set((\"B12\", \"Zn\", \"D\", \"B6\", \"A\", \"Se\", \"Cu\", \"Folates\", \"Ca\", \"Mn\", \"Thiamin\", \"Riboflavin\", \"C\", \"E\", \"Niacin\"))\n",
    "nutrient_dict = {node: (node in nutrients) for node in G}\n",
    "nx.set_node_attributes(G, nutrient_dict, \"nutrient\")\n",
    "# attention: in NetworkX v2.1 the order of the argument in () has changed from (graph, name, value) to (graph, value, name=None)\n",
    "# name=None allows for name to be ommitted completely"
   ]
  },
  {
   "cell_type": "code",
   "execution_count": 94,
   "metadata": {},
   "outputs": [
    {
     "name": "stdout",
     "output_type": "stream",
     "text": [
      "[('A', {'nutrient': True}), ('B12', {'nutrient': True}), ('B6', {'nutrient': True}), ('C', {'nutrient': True}), ('Ca', {'nutrient': True}), ('Cu', {'nutrient': True}), ('D', {'nutrient': True}), ('E', {'nutrient': True}), ('Mn', {'nutrient': True}), ('Se', {'nutrient': True}), ('Zn', {'nutrient': True}), ('Carrots', {'nutrient': False}), ('Eggs', {'nutrient': False}), ('Fatty Fish', {'nutrient': False}), ('Green Leafy Vegs', {'nutrient': False}), ('Liver', {'nutrient': False}), ('Milk', {'nutrient': False}), ('Tomatoes', {'nutrient': False}), ('Asparagus', {'nutrient': False}), ('Beans', {'nutrient': False}), ('Kidneys', {'nutrient': False}), ('Potatoes', {'nutrient': False}), ('Pumpkins', {'nutrient': False}), ('Broccoli', {'nutrient': False}), ('Cheese', {'nutrient': False}), ('Nuts', {'nutrient': False}), ('Whole Grains', {'nutrient': False}), ('Mushrooms', {'nutrient': False}), ('Seeds', {'nutrient': False}), ('Legumes', {'nutrient': False}), ('Wheat', {'nutrient': False}), ('Beef', {'nutrient': False}), ('Riboflavin', {'nutrient': True}), ('Niacin', {'nutrient': True}), ('Folates', {'nutrient': True}), ('Spinach', {'nutrient': False}), ('Poultry', {'nutrient': False}), ('Shellfish', {'nutrient': False}), ('Thiamin', {'nutrient': True}), ('Veg Oils', {'nutrient': False}), ('Yogurt', {'nutrient': False}), ('Honey', {'edible': True, 'nutrient': False}), ('Steel', {'edible': False, 'nutrient': False}), ('Sugar', {'nutrient': False})]\n"
     ]
    }
   ],
   "source": [
    "print(G.nodes(data=True))\n",
    "# prints the boolean attribute for all nodes,\n",
    "# not only the ones where the attribute \"nutrients\" is True (which I think is counter-intuitive)"
   ]
  },
  {
   "cell_type": "markdown",
   "metadata": {},
   "source": [
    "## Visualizing a Network with Matplotlib\n",
    "Why? NetworkX doesn't do visualization, but the matplotlib.pyplot library can be used for this"
   ]
  },
  {
   "cell_type": "code",
   "execution_count": 95,
   "metadata": {},
   "outputs": [],
   "source": [
    "import matplotlib.pyplot as plt"
   ]
  },
  {
   "cell_type": "markdown",
   "metadata": {},
   "source": [
    "There's a couple of different layouts for network graph visualisations:\n",
    "\n",
    "Random layout --- randomly; requires NumPy library --- pos=nx.random_layout --- nx.draw_randon\n",
    "\n",
    "Circular layout --- on a circle --- pos=nx.circular_layout --- nx.draw_circular\n",
    "\n",
    "Shell layout --- on concentric circles defined by nlist --- pos=nx.shell_layout(G, nlist=None) --- nx.draw_shell\n",
    "\n",
    "Spectral layout --- based on eigenvector centrality values --- pos=nx.spectral_layout --- nx.draw_spectral\n",
    "\n",
    "Force-directed layout --- \"balls connected with springs\" --- pos=nx.frucherman_reingold_layout --- nx.draw_networkx\n",
    "\n",
    "Force-directed layout (alternative) --- pos=nx.spring_layout --- nx.draw_spring\n"
   ]
  },
  {
   "cell_type": "markdown",
   "metadata": {},
   "source": [
    "The books says, \"at the rendering phase, NetworkX draws the nodes, labels, and edges at the prescribed positions, using the default or specified shapes, fonts, and colors. You can see the graphical output on the screen, save it into a file (PNG, PDF, PostScript, EPS, SVG), or both. First save the image, then display it.\""
   ]
  },
  {
   "cell_type": "code",
   "execution_count": 135,
   "metadata": {},
   "outputs": [],
   "source": [
    "import dzcnapy_plotlib as dzcnapy #--- ok, what happens here is that I can import a custom library as long as it lives\n",
    "# in the same directory as the notebook is running in\n",
    "# preparation for drawing\n",
    "colors = [\"yellow\" if n[1][\"nutrient\"] else \"pink\" for n in G.nodes(data=True)]\n",
    "dzcnapy.medium_attrs[\"node_color\"] = colors"
   ]
  },
  {
   "cell_type": "code",
   "execution_count": 134,
   "metadata": {},
   "outputs": [
    {
     "data": {
      "image/png": "[encoded data removed]",
      "text/plain": [
       "<Figure size 432x288 with 4 Axes>"
      ]
     },
     "metadata": {},
     "output_type": "display_data"
    }
   ],
   "source": [
    "_, plot = plt.subplots(2, 2)\n",
    "subplots = plot.reshape(1, 4)[0]\n",
    "layouts = (nx.random_layout, nx.circular_layout, nx.spring_layout, nx.spectral_layout)\n",
    "titles = (\"Random\", \"Circular\", \"Force-directed\", \"Spectral\")\n",
    "for plot, layout, title in zip(subplots, layouts, titles):\n",
    "    pos = layout(G)\n",
    "    nx.draw_networkx(G, pos=pos, ax=plot, with_labels=False,\n",
    "                    **dzcnapy.medium_attrs)\n",
    "    plot.set_title(title)"
   ]
  },
  {
   "cell_type": "code",
   "execution_count": 113,
   "metadata": {},
   "outputs": [],
   "source": [
    "# when not using the dzcnapy plot library, the viz looks horrible;\n",
    "# I don't know how to sensibly reshape the visualisations here and do not fully understand what happens in the cell above"
   ]
  },
  {
   "cell_type": "code",
   "execution_count": null,
   "metadata": {},
   "outputs": [],
   "source": [
    "# now the same as above without the dzcnapy plot library\n",
    "_, plot = plt.subplots(2, 2)\n",
    "subplots = plot.reshape(1, 4)[0]\n",
    "layouts = (nx.random_layout, nx.circular_layout, nx.spring_layout, nx.spectral_layout)\n",
    "titles = (\"Random\", \"Circular\", \"Force-directed\", \"Spectral\")\n",
    "for plot, layout, title in zip(subplots, layouts, titles):\n",
    "    pos = layout(G)\n",
    "    nx.draw_networkx(G, pos=pos, ax=plot, with_labels=False)\n",
    "    plot.set_title(title)"
   ]
  },
  {
   "cell_type": "code",
   "execution_count": null,
   "metadata": {},
   "outputs": [],
   "source": []
  }
 ],
 "metadata": {
  "anaconda-cloud": {},
  "kernelspec": {
   "display_name": "Python 3",
   "language": "python",
   "name": "python3"
  },
  "language_info": {
   "codemirror_mode": {
    "name": "ipython",
    "version": 3
   },
   "file_extension": ".py",
   "mimetype": "text/x-python",
   "name": "python",
   "nbconvert_exporter": "python",
   "pygments_lexer": "ipython3",
   "version": "3.6.5"
  }
 },
 "nbformat": 4,
 "nbformat_minor": 2
}
