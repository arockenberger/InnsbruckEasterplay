{
 "cells": [
  {
   "cell_type": "markdown",
   "metadata": {},
   "source": [
    "Following along the book on Complex Network Analysis (CNA), using the Python libraries NetworkX, iGraph, graph-tool, \n",
    "Zinoviev, Dmitry: Complex Network Analysis in Python. Recognize, Construct, Visualize, Analyse, Interpret. Version P1.0 (2018)"
   ]
  },
  {
   "cell_type": "code",
   "execution_count": 13,
   "metadata": {},
   "outputs": [],
   "source": [
    "import networkx as nx"
   ]
  },
  {
   "cell_type": "code",
   "execution_count": 14,
   "metadata": {},
   "outputs": [],
   "source": [
    "G = nx.Graph([(\"A\", \"eggs\"),])\n",
    "G.add_node(\"spinach\") # add a single node\n",
    "G.add_node(\"Hg\") # add a single node by mistake\n",
    "G.add_nodes_from([\"folates\", \"asparagus\", \"liver\"]) # add a list of nodes\n",
    "G.add_edge(\"spinach\", \"folates\") # add one edge, both ends exist\n",
    "G.add_edge(\"spinach\", \"heating oil\") # add one edge by mistake\n",
    "G.add_edge(\"liver\", \"Se\") # add one edge, one end does not exist\n",
    "G.add_edges_from([(\"folates\", \"liver\"), (\"folates\", \"asparagus\")]) # add list of edges"
   ]
  },
  {
   "cell_type": "code",
   "execution_count": 15,
   "metadata": {},
   "outputs": [],
   "source": [
    "G.remove_node(\"Hg\") # removes this node\n",
    "G.remove_nodes_from([\"Hg\",]) # removes a missing node from a list\n",
    "G.remove_edge(\"spinach\", \"heating oil\") # removes edge between these nodes\n",
    "G.remove_edges_from([(\"spinach\", \"heating oil\"),]) # removes edges from a list\n",
    "G.remove_node(\"heating oil\") # not removed yet (?????)"
   ]
  },
  {
   "cell_type": "code",
   "execution_count": 16,
   "metadata": {},
   "outputs": [],
   "source": [
    "# use G.clear to delete all graph nodes and edges at once but keep the graph shell"
   ]
  },
  {
   "cell_type": "code",
   "execution_count": 17,
   "metadata": {},
   "outputs": [
    {
     "name": "stdout",
     "output_type": "stream",
     "text": [
      "['A', 'eggs', 'spinach', 'folates', 'asparagus', 'liver', 'Se']\n"
     ]
    }
   ],
   "source": [
    "print(G.node)"
   ]
  },
  {
   "cell_type": "code",
   "execution_count": 18,
   "metadata": {},
   "outputs": [],
   "source": [
    "# by the way: G = nx.Graph() creates an empty undirected graph (i.e. we name it / assign the variable \"G\")\n",
    "# G = nx.DiGraph() creates an empty directed graph - many NetworkX algorithms refuse to work with directed graphs,\n",
    "# but they can be convertet into undirected graphs F = nx.Graph(G) - but those two are not the same thing!\n",
    "# multigraphs are like undirected graphs but they can have multiple, parallel edges between the same nodes G = nx.MultiGraph()\n",
    "# there's also directed multigraphs G = nx.MultiDiGraph()"
   ]
  },
  {
   "cell_type": "code",
   "execution_count": 19,
   "metadata": {},
   "outputs": [
    {
     "ename": "AttributeError",
     "evalue": "'Graph' object has no attribute 'edge'",
     "output_type": "error",
     "traceback": [
      "\u001b[1;31m---------------------------------------------------------------------------\u001b[0m",
      "\u001b[1;31mAttributeError\u001b[0m                            Traceback (most recent call last)",
      "\u001b[1;32m<ipython-input-19-868e85725f98>\u001b[0m in \u001b[0;36m<module>\u001b[1;34m()\u001b[0m\n\u001b[1;32m----> 1\u001b[1;33m \u001b[0mprint\u001b[0m\u001b[1;33m(\u001b[0m\u001b[0mG\u001b[0m\u001b[1;33m.\u001b[0m\u001b[0medge\u001b[0m\u001b[1;33m)\u001b[0m\u001b[1;33m\u001b[0m\u001b[0m\n\u001b[0m",
      "\u001b[1;31mAttributeError\u001b[0m: 'Graph' object has no attribute 'edge'"
     ]
    }
   ],
   "source": [
    "print(G.edge)"
   ]
  },
  {
   "cell_type": "code",
   "execution_count": null,
   "metadata": {},
   "outputs": [],
   "source": []
  }
 ],
 "metadata": {
  "anaconda-cloud": {},
  "kernelspec": {
   "display_name": "Python 3",
   "language": "python",
   "name": "python3"
  },
  "language_info": {
   "codemirror_mode": {
    "name": "ipython",
    "version": 3
   },
   "file_extension": ".py",
   "mimetype": "text/x-python",
   "name": "python",
   "nbconvert_exporter": "python",
   "pygments_lexer": "ipython3",
   "version": "3.6.5"
  }
 },
 "nbformat": 4,
 "nbformat_minor": 2
}
