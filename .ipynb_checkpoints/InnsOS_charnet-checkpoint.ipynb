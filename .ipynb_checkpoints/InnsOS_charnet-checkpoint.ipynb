{
 "cells": [
  {
   "cell_type": "markdown",
   "metadata": {},
   "source": [
    "# Character Network for the 1391 Innsbruck Easter Play"
   ]
  },
  {
   "cell_type": "code",
   "execution_count": 1,
   "metadata": {},
   "outputs": [],
   "source": [
    "import networkx as nx"
   ]
  },
  {
   "cell_type": "code",
   "execution_count": 2,
   "metadata": {},
   "outputs": [],
   "source": [
    "G = nx.Graph([(\"Ihesus\", \"1_Angelus\"),])"
   ]
  },
  {
   "cell_type": "code",
   "execution_count": 3,
   "metadata": {},
   "outputs": [
    {
     "ename": "AttributeError",
     "evalue": "'Graph' object has no attribute 'add'",
     "output_type": "error",
     "traceback": [
      "\u001b[1;31m---------------------------------------------------------------------------\u001b[0m",
      "\u001b[1;31mAttributeError\u001b[0m                            Traceback (most recent call last)",
      "\u001b[1;32m<ipython-input-3-041ef6287561>\u001b[0m in \u001b[0;36m<module>\u001b[1;34m()\u001b[0m\n\u001b[1;32m----> 1\u001b[1;33m \u001b[0mG\u001b[0m\u001b[1;33m.\u001b[0m\u001b[0madd\u001b[0m\u001b[1;33m.\u001b[0m\u001b[0mnodes_from\u001b[0m\u001b[1;33m(\u001b[0m\u001b[1;33m[\u001b[0m\u001b[1;34m\"Expositor\"\u001b[0m\u001b[1;33m,\u001b[0m \u001b[1;34m\"Pilatus\"\u001b[0m\u001b[1;33m,\u001b[0m \u001b[1;34m\"Servus\"\u001b[0m\u001b[1;33m,\u001b[0m \u001b[1;34m\"Nuntius\"\u001b[0m\u001b[1;33m,\u001b[0m \u001b[1;34m\"1_Miles\"\u001b[0m\u001b[1;33m,\u001b[0m \u001b[1;34m\"2_Miles\"\u001b[0m\u001b[1;33m,\u001b[0m \u001b[1;34m\"3_Miles\"\u001b[0m\u001b[1;33m,\u001b[0m \u001b[1;34m\"4_Miles\"\u001b[0m\u001b[1;33m]\u001b[0m\u001b[1;33m)\u001b[0m\u001b[1;33m\u001b[0m\u001b[0m\n\u001b[0m",
      "\u001b[1;31mAttributeError\u001b[0m: 'Graph' object has no attribute 'add'"
     ]
    }
   ],
   "source": [
    "G.add_nodes_from([\"Expositor\", \"Pilatus\", \"Servus\", \"Nuntius\", \"1_Miles\", \"2_Miles\", \"3_Miles\", \"4_Miles\"])"
   ]
  },
  {
   "cell_type": "code",
   "execution_count": null,
   "metadata": {},
   "outputs": [],
   "source": []
  }
 ],
 "metadata": {
  "kernelspec": {
   "display_name": "Python 3",
   "language": "python",
   "name": "python3"
  },
  "language_info": {
   "codemirror_mode": {
    "name": "ipython",
    "version": 3
   },
   "file_extension": ".py",
   "mimetype": "text/x-python",
   "name": "python",
   "nbconvert_exporter": "python",
   "pygments_lexer": "ipython3",
   "version": "3.6.5"
  }
 },
 "nbformat": 4,
 "nbformat_minor": 2
}
