{
 "cells": [
  {
   "cell_type": "markdown",
   "metadata": {},
   "source": [
    "# Character Network for the 1391 Innsbruck Easter Play\n",
    "(What this can - and cannot - do: using CNA for character networks means that I create an undirected edge between two nodes, where the nodes are characters and the edge is drawn between them when the following condition is met: is on stage with during scene. The 'relation' between the characters does not describe what exactly they are doing on stage, for how long they are doing it, if it is reciprocal. The question remains: what can CNA in this design help revealing about plays? Nevertheless, it is fun to play around with this even if it is just to familiarize myself with CNA using Python and the networkx library.)"
   ]
  },
  {
   "cell_type": "code",
   "execution_count": 4,
   "metadata": {},
   "outputs": [],
   "source": [
    "import networkx as nx"
   ]
  },
  {
   "cell_type": "code",
   "execution_count": 12,
   "metadata": {},
   "outputs": [],
   "source": [
    "G = nx.Graph()\n",
    "# this can apparently be left empty and filled in later with lists or from a .csv file"
   ]
  },
  {
   "cell_type": "code",
   "execution_count": 11,
   "metadata": {},
   "outputs": [],
   "source": [
    "G.add_nodes_from([\"Expositor\", \"Pilatus\", \"Servus\", \"Nuntius\", \"1_Miles\", \"2_Miles\", \"3_Miles\", \"4_Miles\"])\n",
    "# manually adding a list of nodes from InnsOS"
   ]
  },
  {
   "cell_type": "code",
   "execution_count": 10,
   "metadata": {},
   "outputs": [],
   "source": [
    "# this can be done manually but it bugs me to do so - next step: how to ingest a .csv file and read it"
   ]
  },
  {
   "cell_type": "code",
   "execution_count": null,
   "metadata": {},
   "outputs": [],
   "source": []
  }
 ],
 "metadata": {
  "kernelspec": {
   "display_name": "Python 3",
   "language": "python",
   "name": "python3"
  },
  "language_info": {
   "codemirror_mode": {
    "name": "ipython",
    "version": 3
   },
   "file_extension": ".py",
   "mimetype": "text/x-python",
   "name": "python",
   "nbconvert_exporter": "python",
   "pygments_lexer": "ipython3",
   "version": "3.6.5"
  }
 },
 "nbformat": 4,
 "nbformat_minor": 2
}
